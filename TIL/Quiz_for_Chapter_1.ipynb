{
 "cells": [
  {
   "cell_type": "code",
   "execution_count": 2,
   "id": "8062b54d",
   "metadata": {},
   "outputs": [],
   "source": [
    "# F String\n",
    "#### Prob #1\n",
    "abbr = 'NLP'\n",
    "full_text = 'Natural Language Processing'\n"
   ]
  },
  {
   "cell_type": "code",
   "execution_count": 6,
   "id": "000ab934",
   "metadata": {},
   "outputs": [
    {
     "name": "stdout",
     "output_type": "stream",
     "text": [
      "NLP stands for Natural Language Processing\n"
     ]
    }
   ],
   "source": [
    "#Enter My code here\n",
    "print (f'{abbr} stands for {full_text}')\n"
   ]
  },
  {
   "cell_type": "code",
   "execution_count": 7,
   "id": "4c8224d7",
   "metadata": {},
   "outputs": [],
   "source": [
    "# Files\n",
    "## Probe #2 , '%%writefile ~~~' neeed to be allocated in first sentence"
   ]
  },
  {
   "cell_type": "code",
   "execution_count": 18,
   "id": "35b01661",
   "metadata": {},
   "outputs": [
    {
     "name": "stdout",
     "output_type": "stream",
     "text": [
      "Overwriting contacts.txt\n"
     ]
    }
   ],
   "source": [
    "%%writefile contacts.txt\n",
    "First_name Last_Name, Title, Extension, Email"
   ]
  },
  {
   "cell_type": "code",
   "execution_count": 20,
   "id": "6b47b72c",
   "metadata": {},
   "outputs": [],
   "source": [
    "#### Prob #3\n",
    " #open the contacts.txt file"
   ]
  },
  {
   "cell_type": "code",
   "execution_count": 23,
   "id": "28c382fe",
   "metadata": {},
   "outputs": [],
   "source": [
    "my_file=open('contacts.txt')\n",
    "fields = my_file.read()\n",
    "my_file.close()"
   ]
  },
  {
   "cell_type": "code",
   "execution_count": 24,
   "id": "e2851a79",
   "metadata": {},
   "outputs": [],
   "source": [
    "# Working with PDF Files\n",
    "#### Prob #4"
   ]
  },
  {
   "cell_type": "code",
   "execution_count": 74,
   "id": "2cee87f2",
   "metadata": {
    "scrolled": false
   },
   "outputs": [],
   "source": [
    "## what if PyPDF2 hasnt installel yet  then 'pip install PyPDF2'"
   ]
  },
  {
   "cell_type": "code",
   "execution_count": 63,
   "id": "ed171a4a",
   "metadata": {},
   "outputs": [],
   "source": [
    "# Perform import\n",
    "\n",
    "import PyPDF2"
   ]
  },
  {
   "cell_type": "code",
   "execution_count": 64,
   "id": "dd7f65b9",
   "metadata": {},
   "outputs": [],
   "source": [
    "# PDF File composed of binary code. so it needs 'rb or wb'\n",
    "#Open the file as a binary object\n",
    "f = open('Business_Proposal.pdf','rb')"
   ]
  },
  {
   "cell_type": "code",
   "execution_count": 65,
   "id": "d8d78fb4",
   "metadata": {},
   "outputs": [],
   "source": [
    "# Use PyPDF2 to read the text of the file\n",
    "pdf_reader = PyPDF2.PdfFileReader(f)"
   ]
  },
  {
   "cell_type": "code",
   "execution_count": 66,
   "id": "e7e66ba4",
   "metadata": {},
   "outputs": [],
   "source": [
    "# Get the text from page 2 (CHALLENGE: Do this in one step!)\n",
    "# I've Missied extractText Function in line..\n",
    "page_two_text = pdf_reader.getPage(1).extractText()"
   ]
  },
  {
   "cell_type": "code",
   "execution_count": 67,
   "id": "e28dcce0",
   "metadata": {},
   "outputs": [],
   "source": [
    "#close the File\n",
    "f.close()"
   ]
  },
  {
   "cell_type": "code",
   "execution_count": 68,
   "id": "ac9f1f21",
   "metadata": {},
   "outputs": [
    {
     "name": "stdout",
     "output_type": "stream",
     "text": [
      "AUTHORS:\n",
      " \n",
      "Amy Baker, Finance Chair, x345, abaker@ourcompany.com\n",
      " \n",
      "Chris Donaldson, Accounting Dir., x621, cdonaldson@ourcompany.com\n",
      " \n",
      "Erin Freeman, Sr. VP, x879, efreeman@ourcompany.com\n",
      " \n",
      "\n"
     ]
    }
   ],
   "source": [
    "# Print the contents of page_two_text\n",
    "print(page_two_text)"
   ]
  },
  {
   "cell_type": "code",
   "execution_count": 69,
   "id": "2fea852c",
   "metadata": {},
   "outputs": [],
   "source": [
    "#Problem #5 -1\n",
    "f= open('Business_Proposal.pdf','rb')\n",
    "pdf_reader = PyPDF2.PdfFileReader(f)\n",
    "first_page =pdf_reader.getPage(0)\n",
    "pdf_writer = PyPDF2.PdfFileWriter()\n",
    "pdf_writer.addPage(first_page)\n",
    "pdf_output = open(\"context.txt\",\"wb\")\n",
    "pdf_writer.write(pdf_output)\n",
    "pdf_output.close()\n",
    "f.close()"
   ]
  },
  {
   "cell_type": "code",
   "execution_count": 70,
   "id": "e6184081",
   "metadata": {},
   "outputs": [],
   "source": [
    "#Prob #5-2\n",
    "  #rCHALLENGE : remove the Word \"AUTHORS\""
   ]
  },
  {
   "cell_type": "code",
   "execution_count": 71,
   "id": "ed6d767d",
   "metadata": {},
   "outputs": [],
   "source": [
    "#Regular Expression\n",
    " ####Prob #6"
   ]
  },
  {
   "cell_type": "code",
   "execution_count": 72,
   "id": "2caf0bbf",
   "metadata": {},
   "outputs": [],
   "source": [
    "import re"
   ]
  },
  {
   "cell_type": "code",
   "execution_count": 73,
   "id": "a11d7e51",
   "metadata": {},
   "outputs": [
    {
     "data": {
      "text/plain": [
       "['abaker@ourcompany.com',\n",
       " 'cdonaldson@ourcompany.com',\n",
       " 'efreeman@ourcompany.com']"
      ]
     },
     "execution_count": 73,
     "metadata": {},
     "output_type": "execute_result"
    }
   ],
   "source": [
    "pattern = r'\\w+@\\w+.\\w{3}'\n",
    "\n",
    "re.findall(pattern, page_two_text)"
   ]
  },
  {
   "cell_type": "code",
   "execution_count": null,
   "id": "33b25fb7",
   "metadata": {},
   "outputs": [],
   "source": []
  }
 ],
 "metadata": {
  "kernelspec": {
   "display_name": "Python 3",
   "language": "python",
   "name": "python3"
  },
  "language_info": {
   "codemirror_mode": {
    "name": "ipython",
    "version": 3
   },
   "file_extension": ".py",
   "mimetype": "text/x-python",
   "name": "python",
   "nbconvert_exporter": "python",
   "pygments_lexer": "ipython3",
   "version": "3.8.8"
  }
 },
 "nbformat": 4,
 "nbformat_minor": 5
}
